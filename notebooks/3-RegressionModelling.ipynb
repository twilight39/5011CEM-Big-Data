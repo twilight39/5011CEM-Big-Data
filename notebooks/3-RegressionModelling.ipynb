{
 "cells": [
  {
   "cell_type": "code",
   "execution_count": null,
   "id": "ed228203",
   "metadata": {},
   "outputs": [],
   "source": [
    "# In this notebook, we attempt to create a regression model using the preprocessed mortality data from Malaysia. The model will predict the mortality count based on various features such as year, age group, and disease category."
   ]
  },
  {
   "cell_type": "code",
   "execution_count": null,
   "id": "a3d6443c",
   "metadata": {},
   "outputs": [],
   "source": [
    "import pandas as pd\n",
    "from sklearn.ensemble import RandomForestRegressor\n",
    "from sklearn.metrics import mean_absolute_error, r2_score\n",
    "from sklearn.model_selection import train_test_split\n",
    "\n",
    "# Load the processed data\n",
    "model_data = pd.read_csv(\"../data/processed/malaysia_mortality_data_model.csv\")\n",
    "\n",
    "# Define the features (X) and target (y) for regression\n",
    "# The target is 'Mortality Count'\n",
    "y = model_data[\"Mortality Count\"]\n",
    "\n",
    "# The features are everything else. We need to one-hot encode the disease category.\n",
    "X = model_data.drop(\"Mortality Count\", axis=1)\n",
    "X = pd.get_dummies(\n",
    "    X, columns=[\"Disease_L2\"], prefix=\"Disease\"\n",
    ")  # Turn diseases into features\n",
    "\n",
    "# Split the data for training and testing\n",
    "X_train, X_test, y_train, y_test = train_test_split(\n",
    "    X, y, test_size=0.3, random_state=42\n",
    ")"
   ]
  },
  {
   "cell_type": "code",
   "execution_count": null,
   "id": "d2d49662",
   "metadata": {},
   "outputs": [],
   "source": [
    "# 3. Initialize and train a regression model\n",
    "rf_regressor = RandomForestRegressor(n_estimators=100, random_state=42, n_jobs=-1)\n",
    "rf_regressor.fit(X_train, y_train)"
   ]
  },
  {
   "cell_type": "code",
   "execution_count": null,
   "id": "796df3e3",
   "metadata": {},
   "outputs": [],
   "source": [
    "# 4. Evaluate the regression model\n",
    "y_pred_rf = rf_regressor.predict(X_test)\n",
    "r2 = r2_score(y_test, y_pred_rf)\n",
    "mae = mean_absolute_error(y_test, y_pred_rf)\n",
    "\n",
    "print(f\"Random Forest Regressor R-squared: {r2:.4f}\")\n",
    "print(f\"Random Forest Regressor Mean Absolute Error: {mae:.2f}\")\n",
    "\n",
    "# The Random Forest Regressor achieved an R-squared value of 0.8819, indicating that our model can explain 88.2% of the variability in mortality counts—a very strong result.\n",
    "\n",
    "# The Mean Absolute Error (MAE) is 181.37 deaths. While this number seems high in isolation, its impact is context-dependent.\n",
    "# For major causes of death like Cardiovascular Disease, where counts are in the tens of thousands, an error of ~181 is negligible and allows for highly accurate resource planning.\n",
    "# For rarer diseases, this error margin is larger, which is an expected trade-off. Overall, the model demonstrates high predictive power where it is most critically needed."
   ]
  },
  {
   "cell_type": "code",
   "execution_count": null,
   "id": "ec15398c",
   "metadata": {},
   "outputs": [],
   "source": [
    "# Let's check the feature importances to see which diseases are most important for predicting mortality!\n",
    "\n",
    "# Check feature importances\n",
    "feature_importances = pd.Series(\n",
    "    rf_regressor.feature_importances_, index=X.columns\n",
    ").sort_values(ascending=False)\n",
    "\n",
    "# Print top 10\n",
    "print(\"\\nFeature Importances from Random Forest Regressor:\")\n",
    "print(feature_importances.head(10))\n",
    "\n",
    "# Unsurprisingly, 'Age Group' is the most important feature, followed by 'Cardiovascular diseases'.\n",
    "# Surprisingly, 'Year' is also a significant feature, indicating that mortality trends have indeed change oved time."
   ]
  }
 ],
 "metadata": {
  "jupytext": {
   "cell_metadata_filter": "-all",
   "main_language": "python",
   "notebook_metadata_filter": "-all"
  }
 },
 "nbformat": 4,
 "nbformat_minor": 5
}
