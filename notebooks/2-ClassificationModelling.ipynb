{
 "cells": [
  {
   "cell_type": "code",
   "execution_count": null,
   "id": "a42fde5f",
   "metadata": {},
   "outputs": [],
   "source": [
    "# In this notebook, we attempt to create a classification model using the preprocessed mortality data from Malaysia. The model will predict disease categories based on various features such as year, age group."
   ]
  },
  {
   "cell_type": "code",
   "execution_count": null,
   "id": "a1081952",
   "metadata": {},
   "outputs": [],
   "source": [
    "import pandas as pd\n",
    "from sklearn.model_selection import train_test_split\n",
    "from sklearn.tree import DecisionTreeClassifier\n",
    "\n",
    "# Load the processed data\n",
    "model_data = pd.read_csv(\"../data/processed/malaysia_mortality_data_model.csv\")\n",
    "\n",
    "\n",
    "# Create meaningful target: Mortality Risk Levels\n",
    "def create_risk_levels(mortality_count: int):\n",
    "    if mortality_count < 500:\n",
    "        return \"Low\"\n",
    "    elif mortality_count < 2000:\n",
    "        return \"Medium\"\n",
    "    else:\n",
    "        return \"High\"\n",
    "\n",
    "\n",
    "model_data[\"Risk_Level\"] = model_data[\"Mortality Count\"].apply(create_risk_levels)"
   ]
  },
  {
   "cell_type": "code",
   "execution_count": null,
   "id": "c2237088",
   "metadata": {},
   "outputs": [],
   "source": [
    "# Define the features and target variable for the classification model.\n",
    "\n",
    "# Features: Age Group + Disease + Year + Sex\n",
    "# Target: Risk Level\n",
    "X = pd.get_dummies(\n",
    "    model_data[[\"Year\", \"Age Group\", \"Disease_L2\", \"Sex_Females\", \"Sex_Males\"]]\n",
    ")\n",
    "y = model_data[\"Risk_Level\"]"
   ]
  },
  {
   "cell_type": "code",
   "execution_count": null,
   "id": "72c31842",
   "metadata": {},
   "outputs": [],
   "source": [
    "# Split the data into training and testing sets\n",
    "X_train, X_test, y_train, y_test = train_test_split(\n",
    "    X, y, test_size=0.3, random_state=42\n",
    ")"
   ]
  },
  {
   "cell_type": "code",
   "execution_count": null,
   "id": "68c250e0",
   "metadata": {},
   "outputs": [],
   "source": [
    "# Initialize and trains a Decision Tree Classifier on the training data.\n",
    "dt_model = DecisionTreeClassifier(random_state=42)\n",
    "dt_model.fit(X_train, y_train)\n",
    "\n",
    "# Evaluate the model on the test set\n",
    "print(f\"Model Accuracy: {dt_model.score(X_test, y_test)}\")"
   ]
  },
  {
   "cell_type": "code",
   "execution_count": null,
   "id": "655ce796",
   "metadata": {
    "lines_to_next_cell": 0
   },
   "outputs": [],
   "source": [
    "# The Decision Tree has an accuracy of 90.1%!\n",
    "\n",
    "# Let's try a more complex model: Random Forest Classifification\n",
    "from sklearn.ensemble import RandomForestClassifier\n",
    "from sklearn.metrics import accuracy_score\n",
    "\n",
    "# Initialize and train the Random Forest model\n",
    "rf_model = RandomForestClassifier(n_estimators=100, random_state=42, n_jobs=-1)\n",
    "rf_model.fit(X_train, y_train)\n",
    "\n",
    "# Make predictions and evaluate\n",
    "y_pred_rf = rf_model.predict(X_test)\n",
    "rf_accuracy = accuracy_score(y_test, y_pred_rf)\n",
    "\n",
    "print(f\"Decision Tree Accuracy: {dt_model.score(X_test, y_test):.4f}\")\n",
    "print(f\"Random Forest Accuracy: {rf_accuracy:.4f}\")"
   ]
  },
  {
   "cell_type": "code",
   "execution_count": null,
   "id": "91e1e0f5",
   "metadata": {
    "lines_to_next_cell": 0
   },
   "outputs": [],
   "source": [
    "# Random Forest Classifier performed slightly better at 92.6% accuracy,\n",
    "# Let's check the classification report to see how well it performs across different risk levels.\n",
    "from sklearn.metrics import classification_report\n",
    "\n",
    "# Print the classification report\n",
    "print(\"Classification Report:\")\n",
    "print(classification_report(y_test, y_pred_rf))\n",
    "# The report reveals a nuanced story. While the model is nearly perfect\n",
    "# at identifying 'Low' risk cases (99% recall), its ability to correctly\n",
    "# identify all 'Medium' (62% recall) and 'High' (71% recall) cases is lower.\n",
    "#"
   ]
  },
  {
   "cell_type": "code",
   "execution_count": null,
   "id": "46426c1c",
   "metadata": {},
   "outputs": [],
   "source": [
    "# To visualize exactly where the model is making mistakes, let's use a confusion matrix!\n",
    "import matplotlib.pyplot as plt\n",
    "from sklearn.metrics import ConfusionMatrixDisplay, confusion_matrix\n",
    "\n",
    "# Generate the confusion matrix\n",
    "cm = confusion_matrix(y_test, y_pred_rf, labels=rf_model.classes_)\n",
    "disp = ConfusionMatrixDisplay(confusion_matrix=cm, display_labels=rf_model.classes_)\n",
    "\n",
    "disp.plot()\n",
    "plt.title(\"Confusion Matrix for Random Forest Classifier\")\n",
    "plt.show()\n",
    "\n",
    "# The matrix confirms that the primary source of error is the model confusing 'Medium' and 'High' risk cases with each other.\n",
    "# For instance, 14 'Medium' risk cases were incorrectly labeled as 'High'."
   ]
  },
  {
   "cell_type": "code",
   "execution_count": null,
   "id": "c77fd203",
   "metadata": {},
   "outputs": [],
   "source": [
    "# We finally have a working classification model.\n",
    "# Let's check the feature importances to see what the model thinks is important!\n",
    "\n",
    "# Create a pandas Series to store feature importances\n",
    "feature_importances = pd.Series(\n",
    "    rf_model.feature_importances_, index=X.columns\n",
    ").sort_values(ascending=False)\n",
    "\n",
    "print(\"Feature Importances from Random Forest:\")\n",
    "print(feature_importances)\n",
    "\n",
    "# So it seems the model thinks 'Age Group' and 'Year' are the most important features,\n",
    "# taking up 33.8% and 8.8% of the importance respectively.\n",
    "# Following which, Cardiovascular diseases contribute 5.6%."
   ]
  }
 ],
 "metadata": {
  "jupytext": {
   "cell_metadata_filter": "-all",
   "main_language": "python",
   "notebook_metadata_filter": "-all"
  }
 },
 "nbformat": 4,
 "nbformat_minor": 5
}
