{
 "cells": [
  {
   "cell_type": "code",
   "execution_count": null,
   "id": "a73857db",
   "metadata": {},
   "outputs": [],
   "source": [
    "# In this notebook, we will perform clustering analysis on the preprocessed mortality data from Malaysia. The goal is to identify patterns and group similar data points based on their features."
   ]
  },
  {
   "cell_type": "code",
   "execution_count": null,
   "id": "b06a9de6",
   "metadata": {},
   "outputs": [],
   "source": [
    "import matplotlib.pyplot as plt\n",
    "import pandas as pd\n",
    "from sklearn.cluster import KMeans\n",
    "from sklearn.preprocessing import StandardScaler\n",
    "\n",
    "# Load the model-ready data\n",
    "df = pd.read_csv(\"../data/processed/malaysia_mortality_data_model.csv\")\n",
    "\n",
    "# Let's filter the data to a specific year (2021) and sex ('Persons') to create a stable, comparable snapshot for clustering. This removes temporal and gender noise.\n",
    "cluster_data = df[(df[\"Year\"] == 2021) & (df[\"Sex_Persons\"] == 1)].copy()\n",
    "\n",
    "# Pivot the data to create 'mortality profiles'. Each disease becomes a vector representing its mortality pattern across all age groups.\n",
    "mortality_profiles = cluster_data.pivot_table(\n",
    "    index=\"Disease_L2\", columns=\"Age Group\", values=\"Mortality Count\"\n",
    ").fillna(0)\n",
    "\n",
    "print(\"Mortality Profiles for Clustering:\")\n",
    "print(mortality_profiles.head())"
   ]
  },
  {
   "cell_type": "code",
   "execution_count": null,
   "id": "95a75bde",
   "metadata": {},
   "outputs": [],
   "source": [
    "# Scaling is essential for K-Means, as it prevents age groups with high absolute mortality counts (e.g., 70+) from dominating the clustering algorithm.\n",
    "\n",
    "# Standardize the features (age groups) to have equal weight.\n",
    "scaler = StandardScaler()\n",
    "scaled_profiles = scaler.fit_transform(mortality_profiles)"
   ]
  },
  {
   "cell_type": "code",
   "execution_count": null,
   "id": "3247e872",
   "metadata": {},
   "outputs": [],
   "source": [
    "# The Elbow Method helps determine a suitable number of clusters.\n",
    "# The \"elbow\" point indicates where adding more clusters yields diminishing returns in variance reduction.\n",
    "inertia = []\n",
    "k_range = range(1, 11)\n",
    "for k in k_range:\n",
    "    kmeans = KMeans(n_clusters=k, random_state=42, n_init=10)\n",
    "    kmeans.fit(scaled_profiles)\n",
    "    inertia.append(kmeans.inertia_)\n",
    "\n",
    "# Plot the Elbow Method graph\n",
    "plt.figure(figsize=(8, 5))\n",
    "plt.plot(k_range, inertia, marker=\"o\")\n",
    "plt.title(\"Elbow Method for Optimal k\")\n",
    "plt.xlabel(\"Number of Clusters (k)\")\n",
    "plt.ylabel(\"Inertia\")\n",
    "plt.xticks(k_range)\n",
    "plt.grid(True)\n",
    "plt.show()\n",
    "\n",
    "# The plot shows a distinct elbow around k=3, but the curve continues to bend until k=5.\n",
    "# Let's choose k=5 to provide more granular clusters for a richer analysis."
   ]
  },
  {
   "cell_type": "code",
   "execution_count": null,
   "id": "a7950436",
   "metadata": {
    "lines_to_next_cell": 0
   },
   "outputs": [],
   "source": [
    "# Let's choose k=5 based on the elbow plot and project requirements.\n",
    "OPTIMAL_K = 5\n",
    "kmeans = KMeans(n_clusters=OPTIMAL_K, random_state=42, n_init=10)\n",
    "clusters = kmeans.fit_predict(scaled_profiles)\n",
    "\n",
    "# Add the cluster labels back to our original profiles DataFrame\n",
    "mortality_profiles[\"Cluster\"] = clusters\n",
    "\n",
    "# Analyze the characteristics of each cluster by looking at the mean profile\n",
    "cluster_analysis = mortality_profiles.groupby(\"Cluster\").mean()\n",
    "\n",
    "print(cluster_analysis)"
   ]
  },
  {
   "cell_type": "code",
   "execution_count": null,
   "id": "fdf56833",
   "metadata": {},
   "outputs": [],
   "source": [
    "# Visualize the cluster centroids\n",
    "cluster_analysis.T.plot(\n",
    "    kind=\"bar\",\n",
    "    figsize=(15, 7),\n",
    "    title=\"Mortality Count by Age Group for Each Cluster\",\n",
    ")\n",
    "plt.ylabel(\"Average Mortality Count\")\n",
    "plt.xlabel(\"Age Group\")\n",
    "plt.xticks(rotation=45)\n",
    "plt.show()"
   ]
  },
  {
   "cell_type": "code",
   "execution_count": null,
   "id": "b5a9339e",
   "metadata": {},
   "outputs": [],
   "source": [
    "# Let's see which diseases fall into which cluster\n",
    "for i in range(OPTIMAL_K):\n",
    "    print(f\"\\n--- Cluster {i} Diseases ---\")\n",
    "    print(mortality_profiles[mortality_profiles[\"Cluster\"] == i].index.tolist())\n",
    "# --- Interpretation of Clustering Results ---\n",
    "#\n",
    "# The K-Means algorithm successfully segmented the 25 disease categories into 5 distinct clusters based on their mortality patterns across different age groups.\n",
    "# Each cluster represents a unique epidemiological profile, providing valuable insights into how different types of diseases impact the Malaysian population.\n",
    "\n",
    "# --- Cluster 0: Age-Accelerated Chronic Diseases ---\n",
    "# Diseases: ['Malignant neoplasms', 'Respiratory Infectious']\n",
    "# Profile: This cluster shows low mortality in younger age groups, which begins to rise significantly after age 50 and accelerates dramatically in the 70+ group.\n",
    "# It represents major chronic diseases and severe infections that are strongly correlated with aging and accumulated health risks.\n",
    "\n",
    "# --- Cluster 1: Broad-Spectrum & Low-Prevalence Diseases ---\n",
    "# Diseases: ['Diabetes mellitus', 'Digestive diseases', 'Endocrine, blood, immune disorders', etc.]\n",
    "# Profile: This is a \"catch-all\" cluster for diseases with relatively low but persistent mortality across a wide range of age groups.\n",
    "# While individually less impactful than diseases in other clusters, their collective burden is significant and affects the population throughout the lifecycle.\n",
    "\n",
    "# --- Cluster 2: Dominant Geriatric Diseases ---\n",
    "# Diseases: ['Cardiovascular diseases']\n",
    "# Profile: This cluster is defined by a single, dominant cause of death. Its mortality profile is characterized by an exponential increase with age,\n",
    "# becoming the leading cause of death by a large margin in the elderly population (60+). This highlights its status as a primary public health challenge in an aging nation.\n",
    "\n",
    "# --- Cluster 3: Mid-Life & Youth-Risk Diseases ---\n",
    "# Diseases: ['Unintentional injuries']\n",
    "# Profile: This cluster exhibits a distinct pattern with mortality peaking in younger and middle-aged adult groups (15-49), then declining in older age.\n",
    "# This profile is characteristic of external causes of death like accidents, which disproportionately affect younger, more active populations.\n",
    "\n",
    "# --- Cluster 4: Infant and Neonatal Diseases ---\n",
    "# Diseases: ['Congenital anomalies', 'Neonatal conditions']\n",
    "# Profile: This cluster is sharply defined, with mortality almost exclusively concentrated in the 0-4 age group.\n",
    "# It clearly identifies perinatal and congenital conditions that are the primary drivers of infant mortality, distinct from all other disease patterns."
   ]
  },
  {
   "cell_type": "code",
   "execution_count": null,
   "id": "1d6a90c8",
   "metadata": {},
   "outputs": [],
   "source": [
    "# --- Hierarchical Clustering Analysis ---\n",
    "from scipy.cluster.hierarchy import dendrogram, linkage\n",
    "\n",
    "# Use the 'ward' method which minimizes the variance of the clusters being merged.\n",
    "linked = linkage(scaled_profiles, method=\"ward\")\n",
    "\n",
    "# Plot the dendrogram\n",
    "plt.figure(figsize=(15, 10))\n",
    "dendrogram(\n",
    "    linked,\n",
    "    orientation=\"top\",\n",
    "    labels=mortality_profiles.index.tolist(),\n",
    "    distance_sort=\"descending\",\n",
    "    show_leaf_counts=True,\n",
    ")\n",
    "plt.title(\"Hierarchical Clustering Dendrogram of Mortality Profiles\")\n",
    "plt.xlabel(\"Disease Category\")\n",
    "plt.ylabel(\"Distance (Ward)\")\n",
    "plt.xticks(rotation=90)\n",
    "plt.tight_layout()\n",
    "plt.show()\n",
    "\n",
    "# The dendrogram provides a detailed, hierarchical view of the relationships between disease mortality profiles, complementing the findings from K-Means.\n",
    "#\n",
    "# The highest-level split in the tree separates 'Neonatal conditions' and 'Congenital anomalies' from all other diseases.\n",
    "# This is the most significant distinction, confirming that infant mortality patterns (K-Means Cluster 4) are fundamentally different from all other mortality profiles.\n",
    "#\n",
    "# The dendrogram also reveals subtle relationships.\n",
    "# For example, it shows that 'Respiratory Infectious' diseases are grouped more closely with chronic conditions like neoplasms than with other infectious diseases, likely due to their severe impact on older, more vulnerable populations."
   ]
  }
 ],
 "metadata": {
  "jupytext": {
   "cell_metadata_filter": "-all",
   "main_language": "python",
   "notebook_metadata_filter": "-all"
  }
 },
 "nbformat": 4,
 "nbformat_minor": 5
}
